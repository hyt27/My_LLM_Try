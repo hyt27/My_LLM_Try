{
 "cells": [
  {
   "cell_type": "code",
   "execution_count": null,
   "id": "5751452f-fc30-434a-bcb2-d28187c68426",
   "metadata": {},
   "outputs": [],
   "source": [
    "import requests\n",
    "\n",
    "#url = \"http://127.0.0.1:8000\"\n",
    "#url = \"http://192.168.1.83:8000\"\n",
    "url = \"http://192.168.1.22:8010\"\n",
    "\n",
    "data = {\n",
    "    \"prompt\": \"hello2\",\n",
    "    \"history\": []\n",
    "}\n",
    "\n",
    "response = requests.post(url, json=data)\n",
    "\n",
    "result = response.json()\n",
    "\n",
    "reply = result[\"response\"]\n",
    "new_history = result[\"history\"]\n",
    "\n",
    "print(\"Reply:\", reply)\n",
    "print(\"New History:\", new_history)"
   ]
  },
  {
   "cell_type": "code",
   "execution_count": null,
   "id": "6217d280-05e0-4328-be6d-f545752372a1",
   "metadata": {},
   "outputs": [],
   "source": []
  }
 ],
 "metadata": {
  "kernelspec": {
   "display_name": "Python 3 (ipykernel)",
   "language": "python",
   "name": "python3"
  },
  "language_info": {
   "codemirror_mode": {
    "name": "ipython",
    "version": 3
   },
   "file_extension": ".py",
   "mimetype": "text/x-python",
   "name": "python",
   "nbconvert_exporter": "python",
   "pygments_lexer": "ipython3",
   "version": "3.11.7"
  }
 },
 "nbformat": 4,
 "nbformat_minor": 5
}
