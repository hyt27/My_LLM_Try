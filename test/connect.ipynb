{
 "cells": [
  {
   "cell_type": "code",
   "execution_count": 1,
   "id": "2082253a",
   "metadata": {},
   "outputs": [],
   "source": [
    "from transformers import AutoTokenizer, AutoModel"
   ]
  },
  {
   "cell_type": "code",
   "execution_count": 2,
   "id": "fbda67c9",
   "metadata": {},
   "outputs": [
    {
     "name": "stderr",
     "output_type": "stream",
     "text": [
      "/home/chcheadmin/anaconda3/envs/py38/lib/python3.8/site-packages/huggingface_hub/file_download.py:1132: FutureWarning: `resume_download` is deprecated and will be removed in version 1.0.0. Downloads always resume when possible. If you want to force a new download, use `force_download=True`.\n",
      "  warnings.warn(\n",
      "Explicitly passing a `revision` is encouraged when loading a model with custom code to ensure no malicious code has been contributed in a newer revision.\n"
     ]
    }
   ],
   "source": [
    "tokenizer = AutoTokenizer.from_pretrained(\"THUDM/chatglm-6b\", trust_remote_code=True)"
   ]
  },
  {
   "cell_type": "code",
   "execution_count": 3,
   "id": "474fa20a",
   "metadata": {},
   "outputs": [
    {
     "name": "stderr",
     "output_type": "stream",
     "text": [
      "/home/chcheadmin/anaconda3/envs/py38/lib/python3.8/site-packages/huggingface_hub/file_download.py:1132: FutureWarning: `resume_download` is deprecated and will be removed in version 1.0.0. Downloads always resume when possible. If you want to force a new download, use `force_download=True`.\n",
      "  warnings.warn(\n",
      "Explicitly passing a `revision` is encouraged when loading a configuration with custom code to ensure no malicious code has been contributed in a newer revision.\n",
      "/home/chcheadmin/anaconda3/envs/py38/lib/python3.8/site-packages/huggingface_hub/file_download.py:1132: FutureWarning: `resume_download` is deprecated and will be removed in version 1.0.0. Downloads always resume when possible. If you want to force a new download, use `force_download=True`.\n",
      "  warnings.warn(\n",
      "Explicitly passing a `revision` is encouraged when loading a model with custom code to ensure no malicious code has been contributed in a newer revision.\n",
      "/home/chcheadmin/anaconda3/envs/py38/lib/python3.8/site-packages/huggingface_hub/file_download.py:1132: FutureWarning: `resume_download` is deprecated and will be removed in version 1.0.0. Downloads always resume when possible. If you want to force a new download, use `force_download=True`.\n",
      "  warnings.warn(\n"
     ]
    },
    {
     "data": {
      "application/vnd.jupyter.widget-view+json": {
       "model_id": "03df7e3fe8704762859d672bda3fb47b",
       "version_major": 2,
       "version_minor": 0
      },
      "text/plain": [
       "Loading checkpoint shards:   0%|          | 0/8 [00:00<?, ?it/s]"
      ]
     },
     "metadata": {},
     "output_type": "display_data"
    },
    {
     "name": "stderr",
     "output_type": "stream",
     "text": [
      "/home/chcheadmin/anaconda3/envs/py38/lib/python3.8/site-packages/huggingface_hub/file_download.py:1132: FutureWarning: `resume_download` is deprecated and will be removed in version 1.0.0. Downloads always resume when possible. If you want to force a new download, use `force_download=True`.\n",
      "  warnings.warn(\n"
     ]
    }
   ],
   "source": [
    "model = AutoModel.from_pretrained(\"THUDM/chatglm-6b\", trust_remote_code=True).half().cuda()"
   ]
  },
  {
   "cell_type": "code",
   "execution_count": 4,
   "id": "c8476dd3",
   "metadata": {},
   "outputs": [],
   "source": [
    "model = model.eval()"
   ]
  },
  {
   "cell_type": "code",
   "execution_count": 5,
   "id": "421cf324-a5d0-48c3-b057-a58ae9c435ac",
   "metadata": {},
   "outputs": [
    {
     "name": "stderr",
     "output_type": "stream",
     "text": [
      "The dtype of attention mask (torch.int64) is not bool\n"
     ]
    }
   ],
   "source": [
    "response, history = model.chat(tokenizer, \"hello\", history=[])"
   ]
  },
  {
   "cell_type": "code",
   "execution_count": 6,
   "id": "dbff1e44-e639-4fdd-bd2c-5233b5172a19",
   "metadata": {},
   "outputs": [
    {
     "name": "stdout",
     "output_type": "stream",
     "text": [
      "Hello! How can I assist you today?\n"
     ]
    }
   ],
   "source": [
    "print(response)"
   ]
  },
  {
   "cell_type": "code",
   "execution_count": 8,
   "id": "51aa5ebe-b14c-4c32-bcc9-a40896154c76",
   "metadata": {},
   "outputs": [],
   "source": [
    "response, history = model.chat(tokenizer, \"what is construction safty\", history=history)"
   ]
  },
  {
   "cell_type": "code",
   "execution_count": 9,
   "id": "b11329b4-df86-4bed-97dd-398e35198ffa",
   "metadata": {},
   "outputs": [
    {
     "name": "stdout",
     "output_type": "stream",
     "text": [
      "Construction safety refers to the prevention and control of hazards and accidents in the construction industry. It is the responsibility of construction workers and employers to ensure that the construction site is safe and that risks are minimized.\n",
      "\n",
      "Construction safety includes a range of measures, such as training for workers, proper use of equipment, regular inspections and maintenance, and effective communication between workers and employers. It also involves creating a safe work environment, which includes protecting workers from physical and psychological harm, and ensuring that the project is completed on time and within budget.\n"
     ]
    }
   ],
   "source": [
    "print(response)"
   ]
  },
  {
   "cell_type": "code",
   "execution_count": 10,
   "id": "3e72ed7f-6585-4dfa-80de-8dd71b8dd255",
   "metadata": {},
   "outputs": [],
   "source": [
    "response, history = model.chat(tokenizer, \"what kind of personal equipments resuired for working in a construction site?\", history=history)"
   ]
  },
  {
   "cell_type": "code",
   "execution_count": 11,
   "id": "db86a2f2-5fef-4c2a-b579-6f304482b44f",
   "metadata": {},
   "outputs": [
    {
     "name": "stdout",
     "output_type": "stream",
     "text": [
      "Working on a construction site can be dangerous, so it's important for workers to have the right personal equipment to protect themselves and others. Some common personal equipment required for working on a construction site include:\n",
      "\n",
      "1. Safety glasses: They can help protect against dust, debris, and other hazards on the job.\n",
      "2. Hard hats: These are often required on construction sites to protect against sun exposure and other head-on impacts.\n",
      "3. Safety harnesses: They help to keep workers in place and prevent them from falling or being separated from their tools.\n",
      "4. Hardisty boots: They provide protection against cold temperatures and other environmental hazards.\n",
      "5. Cameras: Many construction sites now require workers to have cameras installed to capture video of the site during work hours.\n",
      "6. Power tools: If you are working on a heavy construction project, you may need to use a power saw, hammer, or other heavy equipment.\n",
      "7. First aid kit: It's important to have a basic first aid kit on hand, including medications, first aid supplies, and a first aid manual.\n",
      "\n",
      "These are just a few examples of the types of personal equipment that may be required for working on a construction site. It's important to be aware of the local regulations and safety standards for your area, and to ensure that your personal equipment is up to date and meets those standards.\n"
     ]
    }
   ],
   "source": [
    "print(response)"
   ]
  },
  {
   "cell_type": "code",
   "execution_count": 12,
   "id": "0ecb3fe2-8fef-4c2a-949e-46d8a03967da",
   "metadata": {},
   "outputs": [],
   "source": [
    "response, history = model.chat(tokenizer, \"what kind of personal equipments resuired for working in a construction site in hongkong?\", history=history)"
   ]
  },
  {
   "cell_type": "code",
   "execution_count": 13,
   "id": "cc3ff530-bbba-4a1b-aa49-2016c17392c9",
   "metadata": {},
   "outputs": [
    {
     "name": "stdout",
     "output_type": "stream",
     "text": [
      "Working on a construction site in Hong Kong can be dangerous, and it's important for workers to have the right personal equipment to protect themselves and others. Some common personal equipment required for working on a construction site in Hong Kong include:\n",
      "\n",
      "1. Safety glasses: They can help protect against dust, debris, and other hazards on the job.\n",
      "2. Hard hats: These are often required on construction sites in Hong Kong to protect against sun exposure and other head-on impacts.\n",
      "3. Safety harnesses: They help to keep workers in place and prevent them from falling or being separated from their tools.\n",
      "4. Hardisty boots: They provide protection against cold temperatures and other environmental hazards.\n",
      "5. Cameras: Many construction sites in Hong Kong now require workers to have cameras installed to capture video of the site during work hours.\n",
      "6. Power tools: If you are working on a heavy construction project, you may need to use a power saw, hammer, or other heavy equipment.\n",
      "7. First aid kit: It's important to have a basic first aid kit on hand, including medications, first aid supplies, and a first aid manual.\n",
      "\n",
      "In addition to the equipment listed above, it's important to be aware of the local regulations and safety standards for your area, and to ensure that your personal equipment is up to date and meets those standards. It's also important to follow any safety guidelines or procedures that are provided by the construction company or employer.\n"
     ]
    }
   ],
   "source": [
    "print(response)"
   ]
  },
  {
   "cell_type": "code",
   "execution_count": 1,
   "id": "7635f848-76d8-4277-ba78-d0e19b7bf0ae",
   "metadata": {},
   "outputs": [
    {
     "ename": "NameError",
     "evalue": "name 'model' is not defined",
     "output_type": "error",
     "traceback": [
      "\u001b[0;31m---------------------------------------------------------------------------\u001b[0m",
      "\u001b[0;31mNameError\u001b[0m                                 Traceback (most recent call last)",
      "Cell \u001b[0;32mIn[1], line 1\u001b[0m\n\u001b[0;32m----> 1\u001b[0m response, history \u001b[38;5;241m=\u001b[39m model\u001b[38;5;241m.\u001b[39mchat(tokenizer, \u001b[38;5;124m\"\u001b[39m\u001b[38;5;124mwhat kind of personal equipments resuired for working in a construction site in hongkong?\u001b[39m\u001b[38;5;124m\"\u001b[39m, history\u001b[38;5;241m=\u001b[39mhistory)\n",
      "\u001b[0;31mNameError\u001b[0m: name 'model' is not defined"
     ]
    }
   ],
   "source": [
    "response, history = model.chat(tokenizer, \"what kind of personal equipments resuired for working in a construction site in hongkong?\", history=history)"
   ]
  },
  {
   "cell_type": "code",
   "execution_count": 15,
   "id": "a60ce91a-ba39-4a9b-87fb-da3094560148",
   "metadata": {},
   "outputs": [
    {
     "name": "stdout",
     "output_type": "stream",
     "text": [
      "Working on a construction site in Hong Kong can be dangerous, and it's important for workers to have the right personal equipment to protect themselves and others. Some common personal equipment required for working on a construction site in Hong Kong include:\n",
      "\n",
      "1. Safety glasses: They can help protect against dust, debris, and other hazards on the job.\n",
      "2. Hard hats: These are often required on construction sites in Hong Kong to protect against sun exposure and other head-on impacts.\n",
      "3. Safety harnesses: They help to keep workers in place and prevent them from falling or being separated from their tools.\n",
      "4. Hardisty boots: They provide protection against cold temperatures and other environmental hazards.\n",
      "5. Cameras: Many construction sites in Hong Kong now require workers to have cameras installed to capture video of the site during work hours.\n",
      "6. Power tools: If you are working on a heavy construction project, you may need to use a power saw, hammer, or other heavy equipment.\n",
      "7. First aid kit: It's important to have a basic first aid kit on hand, including medications, first aid supplies, and a first aid manual.\n",
      "\n",
      "In addition to the equipment listed above, it's important to be aware of the local regulations and safety standards for your area, and to ensure that your personal equipment is up to date and meets those standards. It's also important to follow any safety guidelines or procedures that are provided by the construction company or employer.\n"
     ]
    }
   ],
   "source": [
    "print(response)"
   ]
  },
  {
   "cell_type": "code",
   "execution_count": 10,
   "id": "8192fc2a-50d6-45b8-91db-7dd46d8ba288",
   "metadata": {},
   "outputs": [],
   "source": [
    "response, history = model.chat(tokenizer, \"你認爲離地面多少米才算是建築工地上的危險高度?\", history=history)\n",
    "#46s"
   ]
  },
  {
   "cell_type": "code",
   "execution_count": 11,
   "id": "0db43afb-e9a1-4056-bd17-ffd1917697d1",
   "metadata": {},
   "outputs": [
    {
     "name": "stdout",
     "output_type": "stream",
     "text": [
      "危險高度是指在建築工地中，離地面一定高度以上的所有危險因素的总和。通常，建築工地的危險高度會因建築物種類、地區、燈光等因素而有所不同。\n",
      "\n",
      "在一般情況下，建築工地的危險高度通常在3层以下，也就是距地面0-3米。這個高度范围是建築工地中危險因素最為簡單的取值，也是許多建築師和建築安全監管團隊認為安全的取值。\n",
      "\n",
      "然而，隨著建築工程的進行，許多因素會影響建築工地的安全性，例如燈光、空氣、水等，因此建築工地的危險高度也會變得不同。建築工地的安全監管團隊會定期檢查建築工地的危險情況，並根據情況制定相應的安全規劃和措施。\n"
     ]
    }
   ],
   "source": [
    "print(response)"
   ]
  },
  {
   "cell_type": "code",
   "execution_count": 12,
   "id": "d27e3d4b-9919-435c-8286-267f48035b40",
   "metadata": {},
   "outputs": [],
   "source": [
    "response, history = model.chat(tokenizer, \"你認爲, 離地面多少米, 才算是建築工地上的危險高度?\", history=history)\n",
    "#45s"
   ]
  },
  {
   "cell_type": "code",
   "execution_count": 13,
   "id": "baf140ca-1113-4f90-a9dd-bb3d20b45fde",
   "metadata": {},
   "outputs": [
    {
     "name": "stdout",
     "output_type": "stream",
     "text": [
      "危險高度是指在建築工地中，離地面一定高度以上的所有危險因素的总和。通常，建築工地的危險高度會因建築物種類、地區、燈光等因素而有所不同。\n",
      "\n",
      "在一般情況下，建築工地的危險高度通常在3层以下，也就是距地面0-3米。這個高度范围是建築工地中危險因素最為簡單的取值，也是許多建築師和建築安全監管團隊認為安全的取值。\n",
      "\n",
      "然而，隨著建築工程的進行，許多因素會影響建築工地的安全性，例如燈光、空氣、水等，因此建築工地的危險高度也會變得不同。建築工地的安全監管團隊會定期檢查建築工地的危險情況，並根據情況制定相應的安全規劃和措施。\n"
     ]
    }
   ],
   "source": [
    "print(response)"
   ]
  },
  {
   "cell_type": "code",
   "execution_count": 14,
   "id": "ed72800d-f737-4cc4-8b07-5c89181a9898",
   "metadata": {},
   "outputs": [],
   "source": [
    "response, history = model.chat(tokenizer, \"離地面几米是建築工地上的危險高度?\", history=history)\n",
    "#48s"
   ]
  },
  {
   "cell_type": "code",
   "execution_count": 15,
   "id": "e034338f-a549-464d-afd1-794846fd2b50",
   "metadata": {},
   "outputs": [
    {
     "name": "stdout",
     "output_type": "stream",
     "text": [
      "危險高度是指在建築工地中，離地面一定高度以上的所有危險因素的总和。通常，建築工地的危險高度會因建築物種類、地區、燈光等因素而有所不同。\n",
      "\n",
      "在一般情況下，建築工地的危險高度通常在3层以下，也就是距地面0-3米。這個高度范围是建築工地中危險因素最為簡單的取值，也是許多建築師和建築安全監管團隊認為安全的取值。\n",
      "\n",
      "然而，隨著建築工程的進行，許多因素會影響建築工地的安全性，例如燈光、空氣、水等，因此建築工地的危險高度也會變得不同。建築工地的安全監管團隊會定期檢查建築工地的危險情況，並根據情況制定相應的安全規劃和措施。\n"
     ]
    }
   ],
   "source": [
    "print(response)"
   ]
  },
  {
   "cell_type": "code",
   "execution_count": 16,
   "id": "b5651524-7547-4dd2-8f80-23cab75f9a84",
   "metadata": {},
   "outputs": [],
   "source": [
    "response, history = model.chat(tokenizer, \"我有一個問題啊，就是在建築工地上，一般離地面多少米才會是普遍而言的建築工地上的所謂的危險高度呢?\", history=history)\n",
    "#42s"
   ]
  },
  {
   "cell_type": "code",
   "execution_count": 17,
   "id": "9175a3fc-36ec-4a0d-932a-10cce75ace1b",
   "metadata": {},
   "outputs": [
    {
     "name": "stdout",
     "output_type": "stream",
     "text": [
      "危險高度是指在建築工地中，離地面一定高度以上的所有危險因素的总和。通常，建築工地的危險高度通常在3层以下，也就是距地面0-3米。這個高度范围是建築工地中危險因素最為簡單的取值，也是許多建築師和建築安全監管團隊認為安全的取值。\n",
      "\n",
      "然而，隨著建築工程的進行，許多因素會影響建築工地的安全性，例如燈光、空氣、水等，因此建築工地的危險高度也會變得不同。建築工地的安全監管團隊會定期檢查建築工地的危險情況，並根據情況制定相應的安全規劃和措施。\n"
     ]
    }
   ],
   "source": [
    "print(response)"
   ]
  },
  {
   "cell_type": "code",
   "execution_count": 18,
   "id": "7d43e091-77f6-4a48-b39b-7451f00d02f3",
   "metadata": {},
   "outputs": [],
   "source": [
    "response, history = model.chat(tokenizer, \"What is the hazardous height in meters above the ground on a construction site?\", history=history)\n",
    "#25s"
   ]
  },
  {
   "cell_type": "code",
   "execution_count": 19,
   "id": "825883af-6c30-4b28-a9eb-1a5feb4bb68f",
   "metadata": {},
   "outputs": [
    {
     "name": "stdout",
     "output_type": "stream",
     "text": [
      "The hazardous height on a construction site is the height of hazards and risks above the ground level. It is usually determined by the specific construction project and may vary depending on factors such as the type of building, the materials being used, and the local regulations.\n",
      "\n",
      "In general, the hazardous height is typically between 3 feet and 6 feet above the ground level, but it can vary depending on the specific situation. On a construction site, it is important to ensure that workers and contractors are aware of the hazardous heights and to follow appropriate safety measures, such as using proper safety equipment and following established protocols.\n"
     ]
    }
   ],
   "source": [
    "print(response)"
   ]
  },
  {
   "cell_type": "code",
   "execution_count": 20,
   "id": "bc65ab87-4dd5-4c2b-8102-94de05767aa2",
   "metadata": {},
   "outputs": [],
   "source": [
    "response, history = model.chat(tokenizer, \"你有什麽被禁止問的問題嗎?\", history=history)"
   ]
  },
  {
   "cell_type": "code",
   "execution_count": 21,
   "id": "66045d16-10d7-4950-bc13-202615659c50",
   "metadata": {},
   "outputs": [
    {
     "name": "stdout",
     "output_type": "stream",
     "text": [
      "作为一个AI模型，我沒有被禁止問的問題，但我們的語言規定和伦理指南確實有一些限制，以避免不當的問題和不当的語言使用。\n",
      "\n",
      "例如，我們不得使用有誤或冒犯性的語言，不得涉及色情、暴力、政治關係等敏感問題，也不得在非授權的場合問及他人的私人信息。此外，我們也應該避免使用可能導致歧義或误解的語言，以及避免使用有價值的內容或信息。\n",
      "\n",
      "總之，我們應該尊重人們的權益和尊严，遵循語言規定和伦理指南，以確保我們的質量和價值。\n"
     ]
    }
   ],
   "source": [
    "print(response)"
   ]
  },
  {
   "cell_type": "code",
   "execution_count": null,
   "id": "d926c502-cca2-4dc4-ae24-8cb3dcd6a67d",
   "metadata": {},
   "outputs": [],
   "source": []
  }
 ],
 "metadata": {
  "kernelspec": {
   "display_name": "Python 3 (ipykernel)",
   "language": "python",
   "name": "python3"
  },
  "language_info": {
   "codemirror_mode": {
    "name": "ipython",
    "version": 3
   },
   "file_extension": ".py",
   "mimetype": "text/x-python",
   "name": "python",
   "nbconvert_exporter": "python",
   "pygments_lexer": "ipython3",
   "version": "3.8.8"
  }
 },
 "nbformat": 4,
 "nbformat_minor": 5
}
