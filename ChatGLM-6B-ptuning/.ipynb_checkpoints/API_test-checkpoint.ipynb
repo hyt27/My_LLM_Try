{
 "cells": [
  {
   "cell_type": "code",
   "execution_count": 9,
   "id": "9f21f5cd-1dfc-48a1-b139-bbb0a6cabe54",
   "metadata": {},
   "outputs": [],
   "source": [
    "import requests\n"
   ]
  },
  {
   "cell_type": "code",
   "execution_count": 10,
   "id": "df6604fa-291d-4416-978b-63e74569db86",
   "metadata": {},
   "outputs": [],
   "source": [
    "\n",
    "# 定义API的URL\n",
    "url = \"http://127.0.0.1:6006\"\n"
   ]
  },
  {
   "cell_type": "code",
   "execution_count": 18,
   "id": "d1c624ab-385b-4a45-a5f1-3840680d2bc2",
   "metadata": {},
   "outputs": [],
   "source": [
    "\n",
    "# 定义请求的数据\n",
    "data = {\n",
    "    \"prompt\": \"你好\",\n",
    "    \"history\": []\n",
    "}\n"
   ]
  },
  {
   "cell_type": "code",
   "execution_count": 19,
   "id": "7e44a956-145f-482e-9b7d-c983a84dc9c4",
   "metadata": {},
   "outputs": [],
   "source": [
    "\n",
    "# 发送POST请求\n",
    "response = requests.post(url, json=data)\n",
    "\n"
   ]
  },
  {
   "cell_type": "code",
   "execution_count": 16,
   "id": "2d9424fd-dc14-4389-b0d7-e76473664d59",
   "metadata": {},
   "outputs": [],
   "source": [
    "# 获取响应结果\n",
    "result = response.json()\n",
    "\n"
   ]
  },
  {
   "cell_type": "code",
   "execution_count": 17,
   "id": "85056381-f877-4932-adf4-7c6f96255f4b",
   "metadata": {},
   "outputs": [
    {
     "name": "stdout",
     "output_type": "stream",
     "text": [
      "Reply: Hello! How can I assist you today?\n",
      "New History: [['hi', 'Hello! How can I assist you today?']]\n"
     ]
    }
   ],
   "source": [
    "# 处理响应数据\n",
    "reply = result[\"response\"]\n",
    "new_history = result[\"history\"]\n",
    "# 其他操作...\n",
    "\n",
    "# 打印回复和新的历史记录\n",
    "print(\"Reply:\", reply)\n",
    "print(\"New History:\", new_history)"
   ]
  },
  {
   "cell_type": "code",
   "execution_count": null,
   "id": "6217d280-05e0-4328-be6d-f545752372a1",
   "metadata": {},
   "outputs": [],
   "source": []
  }
 ],
 "metadata": {
  "kernelspec": {
   "display_name": "Python 3 (ipykernel)",
   "language": "python",
   "name": "python3"
  },
  "language_info": {
   "codemirror_mode": {
    "name": "ipython",
    "version": 3
   },
   "file_extension": ".py",
   "mimetype": "text/x-python",
   "name": "python",
   "nbconvert_exporter": "python",
   "pygments_lexer": "ipython3",
   "version": "3.11.7"
  }
 },
 "nbformat": 4,
 "nbformat_minor": 5
}
