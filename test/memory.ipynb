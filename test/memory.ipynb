{
 "cells": [
  {
   "cell_type": "code",
   "execution_count": 1,
   "id": "2b5c0d58",
   "metadata": {},
   "outputs": [],
   "source": [
    "import psutil"
   ]
  },
  {
   "cell_type": "code",
   "execution_count": 2,
   "id": "fcd33441",
   "metadata": {},
   "outputs": [],
   "source": [
    "memory_info = psutil.virtual_memory()"
   ]
  },
  {
   "cell_type": "code",
   "execution_count": 3,
   "id": "9e23e251",
   "metadata": {},
   "outputs": [],
   "source": [
    "total_memory = memory_info.total\n",
    "available_memory = memory_info.available\n",
    "used_memory = memory_info.used"
   ]
  },
  {
   "cell_type": "code",
   "execution_count": 4,
   "id": "e6eb7d55",
   "metadata": {},
   "outputs": [
    {
     "name": "stdout",
     "output_type": "stream",
     "text": [
      "Total Memory: 32110194688 bytes\n",
      "Available Memory: 26447577088 bytes\n",
      "Used Memory: 5111975936 bytes\n"
     ]
    }
   ],
   "source": [
    "print(f\"Total Memory: {total_memory} bytes\")\n",
    "print(f\"Available Memory: {available_memory} bytes\")\n",
    "print(f\"Used Memory: {used_memory} bytes\")"
   ]
  },
  {
   "cell_type": "code",
   "execution_count": null,
   "id": "0b5e72a2",
   "metadata": {},
   "outputs": [],
   "source": []
  }
 ],
 "metadata": {
  "kernelspec": {
   "display_name": "Python 3 (ipykernel)",
   "language": "python",
   "name": "python3"
  },
  "language_info": {
   "codemirror_mode": {
    "name": "ipython",
    "version": 3
   },
   "file_extension": ".py",
   "mimetype": "text/x-python",
   "name": "python",
   "nbconvert_exporter": "python",
   "pygments_lexer": "ipython3",
   "version": "3.11.5"
  }
 },
 "nbformat": 4,
 "nbformat_minor": 5
}
