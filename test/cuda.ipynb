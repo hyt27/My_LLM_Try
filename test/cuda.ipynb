{
 "cells": [
  {
   "cell_type": "code",
   "execution_count": 2,
   "id": "ad5219ae",
   "metadata": {},
   "outputs": [],
   "source": [
    "import torch\n"
   ]
  },
  {
   "cell_type": "code",
   "execution_count": 2,
   "id": "72bb2c9f",
   "metadata": {},
   "outputs": [
    {
     "name": "stdout",
     "output_type": "stream",
     "text": [
      "Using CUDA device: Orin\n"
     ]
    }
   ],
   "source": [
    "\n",
    "if torch.cuda.is_available():\n",
    "    device = torch.cuda.current_device()\n",
    "    print(f\"Using CUDA device: {torch.cuda.get_device_name(device)}\")\n",
    "else:\n",
    "    print(\"CUDA is not available on this machine.\")"
   ]
  },
  {
   "cell_type": "code",
   "execution_count": 3,
   "id": "f4783dd2-be75-495f-b000-eaf3987d8f9e",
   "metadata": {},
   "outputs": [
    {
     "data": {
      "text/plain": [
       "True"
      ]
     },
     "execution_count": 3,
     "metadata": {},
     "output_type": "execute_result"
    }
   ],
   "source": [
    "torch.cuda.is_available()"
   ]
  },
  {
   "cell_type": "code",
   "execution_count": 4,
   "id": "073af61d-1f6f-4e27-8f5d-311c235eba4b",
   "metadata": {},
   "outputs": [
    {
     "data": {
      "text/plain": [
       "tensor([1., 2.])"
      ]
     },
     "execution_count": 4,
     "metadata": {},
     "output_type": "execute_result"
    }
   ],
   "source": [
    "torch.tensor([1.0,2.0])"
   ]
  },
  {
   "cell_type": "code",
   "execution_count": 5,
   "id": "0026d421-16e7-4686-9520-ac7bf5af1564",
   "metadata": {},
   "outputs": [
    {
     "data": {
      "text/plain": [
       "tensor([1., 2.], device='cuda:0')"
      ]
     },
     "execution_count": 5,
     "metadata": {},
     "output_type": "execute_result"
    }
   ],
   "source": [
    "torch.tensor([1.0,2.0]).cuda()"
   ]
  },
  {
   "cell_type": "code",
   "execution_count": 6,
   "id": "e27a5d1b-b915-4164-b948-91bfb9c444ee",
   "metadata": {},
   "outputs": [
    {
     "name": "stdout",
     "output_type": "stream",
     "text": [
      "(8, 7)\n"
     ]
    }
   ],
   "source": [
    "print(torch.cuda.get_device_capability())"
   ]
  },
  {
   "cell_type": "code",
   "execution_count": 7,
   "id": "3b354632-fc40-485a-9cf2-4370efcb3933",
   "metadata": {},
   "outputs": [],
   "source": [
    "TORCH_CUDA_ARCH_LIST='8.7' "
   ]
  },
  {
   "cell_type": "code",
   "execution_count": 8,
   "id": "7175b217-addf-49b8-a077-b23eb4c5a62e",
   "metadata": {},
   "outputs": [
    {
     "name": "stdout",
     "output_type": "stream",
     "text": [
      "Collecting mmcv-full\n",
      "  Downloading mmcv-full-1.7.2.tar.gz (607 kB)\n",
      "\u001b[2K     \u001b[38;2;114;156;31m━━━━━━━━━━━━━━━━━━━━━━━━━━━━━━━━━━━━━━\u001b[0m \u001b[32m607.9/607.9 kB\u001b[0m \u001b[31m11.6 MB/s\u001b[0m eta \u001b[36m0:00:00\u001b[0m31m14.8 MB/s\u001b[0m eta \u001b[36m0:00:01\u001b[0m\n",
      "\u001b[?25h  Preparing metadata (setup.py) ... \u001b[?25ldone\n",
      "\u001b[?25hCollecting addict (from mmcv-full)\n",
      "  Downloading addict-2.4.0-py3-none-any.whl.metadata (1.0 kB)\n",
      "Requirement already satisfied: numpy in /home/chcheadmin/anaconda3/envs/py38/lib/python3.8/site-packages (from mmcv-full) (1.24.4)\n",
      "Requirement already satisfied: packaging in /home/chcheadmin/anaconda3/envs/py38/lib/python3.8/site-packages (from mmcv-full) (23.2)\n",
      "Requirement already satisfied: Pillow in /home/chcheadmin/anaconda3/envs/py38/lib/python3.8/site-packages (from mmcv-full) (10.3.0)\n",
      "Requirement already satisfied: pyyaml in /home/chcheadmin/anaconda3/envs/py38/lib/python3.8/site-packages (from mmcv-full) (6.0.1)\n",
      "Collecting yapf (from mmcv-full)\n",
      "  Downloading yapf-0.40.2-py3-none-any.whl.metadata (45 kB)\n",
      "\u001b[2K     \u001b[38;2;114;156;31m━━━━━━━━━━━━━━━━━━━━━━━━━━━━━━━━━━━━━━━━\u001b[0m \u001b[32m45.4/45.4 kB\u001b[0m \u001b[31m2.3 MB/s\u001b[0m eta \u001b[36m0:00:00\u001b[0m\n",
      "\u001b[?25hCollecting opencv-python>=3 (from mmcv-full)\n",
      "  Downloading opencv_python-4.10.0.82-cp37-abi3-manylinux_2_17_aarch64.manylinux2014_aarch64.whl.metadata (20 kB)\n",
      "Requirement already satisfied: importlib-metadata>=6.6.0 in /home/chcheadmin/anaconda3/envs/py38/lib/python3.8/site-packages (from yapf->mmcv-full) (7.0.1)\n",
      "Requirement already satisfied: platformdirs>=3.5.1 in /home/chcheadmin/anaconda3/envs/py38/lib/python3.8/site-packages (from yapf->mmcv-full) (3.10.0)\n",
      "Requirement already satisfied: tomli>=2.0.1 in /home/chcheadmin/anaconda3/envs/py38/lib/python3.8/site-packages (from yapf->mmcv-full) (2.0.1)\n",
      "Requirement already satisfied: zipp>=0.5 in /home/chcheadmin/anaconda3/envs/py38/lib/python3.8/site-packages (from importlib-metadata>=6.6.0->yapf->mmcv-full) (3.17.0)\n",
      "Downloading opencv_python-4.10.0.82-cp37-abi3-manylinux_2_17_aarch64.manylinux2014_aarch64.whl (41.7 MB)\n",
      "\u001b[2K   \u001b[38;2;114;156;31m━━━━━━━━━━━━━━━━━━━━━━━━━━━━━━━━━━━━━━━━\u001b[0m \u001b[32m41.7/41.7 MB\u001b[0m \u001b[31m15.4 MB/s\u001b[0m eta \u001b[36m0:00:00\u001b[0mm eta \u001b[36m0:00:01\u001b[0m[36m0:00:01\u001b[0m\n",
      "\u001b[?25hDownloading addict-2.4.0-py3-none-any.whl (3.8 kB)\n",
      "Downloading yapf-0.40.2-py3-none-any.whl (254 kB)\n",
      "\u001b[2K   \u001b[38;2;114;156;31m━━━━━━━━━━━━━━━━━━━━━━━━━━━━━━━━━━━━━━━━\u001b[0m \u001b[32m254.7/254.7 kB\u001b[0m \u001b[31m10.0 MB/s\u001b[0m eta \u001b[36m0:00:00\u001b[0m\n",
      "\u001b[?25hBuilding wheels for collected packages: mmcv-full\n",
      "  Building wheel for mmcv-full (setup.py) ... \u001b[?25l-^C\n",
      "\u001b[?25canceled\n",
      "\u001b[31mERROR: Operation cancelled by user\u001b[0m\u001b[31m\n",
      "\u001b[0mNote: you may need to restart the kernel to use updated packages.\n"
     ]
    }
   ],
   "source": [
    "pip install mmcv-full"
   ]
  },
  {
   "cell_type": "code",
   "execution_count": 7,
   "id": "8d4488e4",
   "metadata": {},
   "outputs": [
    {
     "name": "stdout",
     "output_type": "stream",
     "text": [
      "Found existing installation: torch 2.0.1\n",
      "Uninstalling torch-2.0.1:\n",
      "  Successfully uninstalled torch-2.0.1\n"
     ]
    }
   ],
   "source": [
    "!pip uninstall torch -y"
   ]
  },
  {
   "cell_type": "code",
   "execution_count": 2,
   "id": "b2a5ea6c",
   "metadata": {},
   "outputs": [
    {
     "ename": "ModuleNotFoundError",
     "evalue": "No module named 'torch'",
     "output_type": "error",
     "traceback": [
      "\u001b[0;31m---------------------------------------------------------------------------\u001b[0m",
      "\u001b[0;31mModuleNotFoundError\u001b[0m                       Traceback (most recent call last)",
      "Cell \u001b[0;32mIn[2], line 1\u001b[0m\n\u001b[0;32m----> 1\u001b[0m \u001b[38;5;28;01mimport\u001b[39;00m \u001b[38;5;21;01mtorch\u001b[39;00m\n\u001b[1;32m      3\u001b[0m \u001b[38;5;28mprint\u001b[39m(torch\u001b[38;5;241m.\u001b[39m__version__)\n",
      "\u001b[0;31mModuleNotFoundError\u001b[0m: No module named 'torch'"
     ]
    }
   ],
   "source": [
    "import torch\n",
    "\n",
    "print(torch.__version__)"
   ]
  },
  {
   "cell_type": "code",
   "execution_count": 10,
   "id": "d2d9f61f",
   "metadata": {},
   "outputs": [
    {
     "name": "stdout",
     "output_type": "stream",
     "text": [
      "ERROR: ld.so: object '/home/chcheadmin/anaconda3/lib/python3.11/site-packages/torch.libs/libgomp-d22c30c5.so.1.0.0' from LD_PRELOAD cannot be preloaded (cannot open shared object file): ignored.\n",
      "ERROR: ld.so: object '/home/chcheadmin/anaconda3/lib/python3.11/site-packages/torch.libs/libgomp-d22c30c5.so.1.0.0' from LD_PRELOAD cannot be preloaded (cannot open shared object file): ignored.\n",
      "Package                       Version\n",
      "----------------------------- ------------\n",
      "accelerate                    0.31.0\n",
      "aiobotocore                   2.5.0\n",
      "aiofiles                      22.1.0\n",
      "aiohttp                       3.8.5\n",
      "aioitertools                  0.7.1\n",
      "aiosignal                     1.2.0\n",
      "aiosqlite                     0.18.0\n",
      "alabaster                     0.7.12\n",
      "altair                        5.3.0\n",
      "anaconda-anon-usage           0.4.2\n",
      "anaconda-catalogs             0.2.0\n",
      "anaconda-client               1.12.1\n",
      "anaconda-cloud-auth           0.1.3\n",
      "anaconda-navigator            2.5.0\n",
      "anaconda-project              0.11.1\n",
      "annotated-types               0.7.0\n",
      "anyio                         3.5.0\n",
      "appdirs                       1.4.4\n",
      "argon2-cffi                   21.3.0\n",
      "argon2-cffi-bindings          21.2.0\n",
      "arrow                         1.2.3\n",
      "astroid                       2.14.2\n",
      "astropy                       5.1\n",
      "asttokens                     2.0.5\n",
      "async-timeout                 4.0.2\n",
      "atomicwrites                  1.4.0\n",
      "attrs                         22.1.0\n",
      "Automat                       20.2.0\n",
      "autopep8                      1.6.0\n",
      "Babel                         2.11.0\n",
      "backcall                      0.2.0\n",
      "backports.functools-lru-cache 1.6.4\n",
      "backports.tempfile            1.0\n",
      "backports.weakref             1.0.post1\n",
      "bcrypt                        3.2.0\n",
      "beautifulsoup4                4.12.2\n",
      "binaryornot                   0.4.4\n",
      "black                         0.0\n",
      "bleach                        4.1.0\n",
      "bokeh                         3.2.1\n",
      "boltons                       23.0.0\n",
      "botocore                      1.29.76\n",
      "Bottleneck                    1.3.5\n",
      "brotlipy                      0.7.0\n",
      "certifi                       2023.7.22\n",
      "cffi                          1.15.1\n",
      "chardet                       4.0.0\n",
      "charset-normalizer            2.0.4\n",
      "click                         8.0.4\n",
      "cloudpickle                   2.2.1\n",
      "clyent                        1.2.2\n",
      "colorama                      0.4.6\n",
      "colorcet                      3.0.1\n",
      "comm                          0.1.2\n",
      "conda                         23.7.4\n",
      "conda-build                   3.26.1\n",
      "conda-content-trust           0.2.0\n",
      "conda_index                   0.3.0\n",
      "conda-libmamba-solver         23.7.0\n",
      "conda-pack                    0.6.0\n",
      "conda-package-handling        2.2.0\n",
      "conda_package_streaming       0.9.0\n",
      "conda-repo-cli                1.0.75\n",
      "conda-token                   0.4.0\n",
      "conda-verify                  3.4.2\n",
      "constantly                    15.1.0\n",
      "contourpy                     1.0.5\n",
      "cookiecutter                  1.7.3\n",
      "cpm-kernels                   1.0.11\n",
      "cryptography                  41.0.3\n",
      "cssselect                     1.1.0\n",
      "cycler                        0.11.0\n",
      "cytoolz                       0.12.0\n",
      "dask                          2023.6.0\n",
      "datasets                      2.12.0\n",
      "datashader                    0.15.2\n",
      "datashape                     0.5.4\n",
      "debugpy                       1.6.7\n",
      "decorator                     5.1.1\n",
      "defusedxml                    0.7.1\n",
      "diff-match-patch              20200713\n",
      "dill                          0.3.6\n",
      "distributed                   2023.6.0\n",
      "dnspython                     2.6.1\n",
      "docstring-to-markdown         0.11\n",
      "docutils                      0.18.1\n",
      "email_validator               2.1.1\n",
      "entrypoints                   0.4\n",
      "et-xmlfile                    1.1.0\n",
      "executing                     0.8.3\n",
      "fastapi                       0.111.0\n",
      "fastapi-cli                   0.0.4\n",
      "fastjsonschema                2.16.2\n",
      "ffmpy                         0.3.2\n",
      "filelock                      3.9.0\n",
      "flake8                        6.0.0\n",
      "Flask                         2.2.2\n",
      "fonttools                     4.25.0\n",
      "frozenlist                    1.3.3\n",
      "fsspec                        2024.6.0\n",
      "future                        0.18.3\n",
      "gensim                        4.3.0\n",
      "glob2                         0.7\n",
      "gmpy2                         2.1.2\n",
      "gradio                        4.36.1\n",
      "gradio_client                 1.0.1\n",
      "greenlet                      2.0.1\n",
      "h11                           0.14.0\n",
      "h5py                          3.9.0\n",
      "HeapDict                      1.0.1\n",
      "holoviews                     1.17.1\n",
      "httpcore                      1.0.5\n",
      "httptools                     0.6.1\n",
      "httpx                         0.27.0\n",
      "huggingface-hub               0.23.3\n",
      "hvplot                        0.8.4\n",
      "hyperlink                     21.0.0\n",
      "idna                          3.4\n",
      "imagecodecs                   2023.1.23\n",
      "imageio                       2.31.1\n",
      "imagesize                     1.4.1\n",
      "imbalanced-learn              0.10.1\n",
      "importlib-metadata            6.0.0\n",
      "importlib_resources           6.4.0\n",
      "incremental                   21.3.0\n",
      "inflection                    0.5.1\n",
      "iniconfig                     1.1.1\n",
      "intake                        0.6.8\n",
      "intervaltree                  3.1.0\n",
      "ipykernel                     6.25.0\n",
      "ipython                       8.15.0\n",
      "ipython-genutils              0.2.0\n",
      "ipywidgets                    8.0.4\n",
      "isort                         5.9.3\n",
      "itemadapter                   0.3.0\n",
      "itemloaders                   1.0.4\n",
      "itsdangerous                  2.0.1\n",
      "jaraco.classes                3.2.1\n",
      "jedi                          0.18.1\n",
      "jeepney                       0.7.1\n",
      "jellyfish                     1.0.1\n",
      "Jinja2                        3.1.2\n",
      "jinja2-time                   0.2.0\n",
      "jmespath                      0.10.0\n",
      "joblib                        1.2.0\n",
      "json5                         0.9.6\n",
      "jsonpatch                     1.32\n",
      "jsonpointer                   2.1\n",
      "jsonschema                    4.17.3\n",
      "jupyter                       1.0.0\n",
      "jupyter_client                7.4.9\n",
      "jupyter-console               6.6.3\n",
      "jupyter_core                  5.3.0\n",
      "jupyter-events                0.6.3\n",
      "jupyter-server                1.23.4\n",
      "jupyter_server_fileid         0.9.0\n",
      "jupyter_server_ydoc           0.8.0\n",
      "jupyter-ydoc                  0.2.4\n",
      "jupyterlab                    3.6.3\n",
      "jupyterlab-pygments           0.1.2\n",
      "jupyterlab_server             2.22.0\n",
      "jupyterlab-widgets            3.0.5\n",
      "kaleido                       0.2.1\n",
      "keyring                       23.13.1\n",
      "kiwisolver                    1.4.4\n",
      "latex2mathml                  3.77.0\n",
      "lazy_loader                   0.2\n",
      "lazy-object-proxy             1.6.0\n",
      "libarchive-c                  2.9\n",
      "libmambapy                    1.5.1\n",
      "linkify-it-py                 2.0.0\n",
      "llvmlite                      0.40.0\n",
      "lmdb                          1.4.1\n",
      "locket                        1.0.0\n",
      "lxml                          4.9.3\n",
      "lz4                           4.3.2\n",
      "Markdown                      3.4.1\n",
      "markdown-it-py                2.2.0\n",
      "MarkupSafe                    2.1.1\n",
      "matplotlib                    3.7.2\n",
      "matplotlib-inline             0.1.6\n",
      "mccabe                        0.7.0\n",
      "mdit-py-plugins               0.3.0\n",
      "mdtex2html                    1.3.0\n",
      "mdurl                         0.1.0\n",
      "mistune                       0.8.4\n",
      "more-itertools                8.12.0\n",
      "mpmath                        1.3.0\n",
      "msgpack                       1.0.3\n",
      "multidict                     6.0.2\n",
      "multipledispatch              0.6.0\n",
      "multiprocess                  0.70.14\n",
      "munkres                       1.1.4\n",
      "mypy-extensions               1.0.0\n",
      "navigator-updater             0.4.0\n",
      "nbclassic                     0.5.5\n",
      "nbclient                      0.5.13\n",
      "nbconvert                     6.5.4\n",
      "nbformat                      5.9.2\n",
      "nest-asyncio                  1.5.6\n",
      "networkx                      3.1\n",
      "nltk                          3.8.1\n",
      "notebook                      6.5.4\n",
      "notebook_shim                 0.2.2\n",
      "numba                         0.57.1\n",
      "numexpr                       2.8.4\n",
      "numpy                         1.24.3\n",
      "numpydoc                      1.5.0\n",
      "openpyxl                      3.0.10\n",
      "orjson                        3.10.4\n",
      "packaging                     23.1\n",
      "pandas                        2.0.3\n",
      "pandocfilters                 1.5.0\n",
      "panel                         1.2.3\n",
      "param                         1.13.0\n",
      "parsel                        1.6.0\n",
      "parso                         0.8.3\n",
      "partd                         1.4.0\n",
      "pathlib                       1.0.1\n",
      "pathspec                      0.10.3\n",
      "patsy                         0.5.3\n",
      "pep8                          1.7.1\n",
      "pexpect                       4.8.0\n",
      "pickleshare                   0.7.5\n",
      "Pillow                        9.4.0\n",
      "pip                           23.2.1\n",
      "pkce                          1.0.3\n",
      "pkginfo                       1.9.6\n",
      "platformdirs                  3.10.0\n",
      "plotly                        5.9.0\n",
      "pluggy                        1.0.0\n",
      "ply                           3.11\n",
      "poyo                          0.5.0\n",
      "prometheus-client             0.14.1\n",
      "prompt-toolkit                3.0.36\n",
      "Protego                       0.1.16\n",
      "protobuf                      5.27.1\n",
      "psutil                        5.9.0\n",
      "ptyprocess                    0.7.0\n",
      "pure-eval                     0.2.2\n",
      "py-cpuinfo                    8.0.0\n",
      "pyarrow                       11.0.0\n",
      "pyasn1                        0.4.8\n",
      "pyasn1-modules                0.2.8\n",
      "pycodestyle                   2.10.0\n",
      "pycosat                       0.6.4\n",
      "pycparser                     2.21\n",
      "pyct                          0.5.0\n",
      "pycurl                        7.45.2\n",
      "pydantic                      2.7.3\n",
      "pydantic_core                 2.18.4\n",
      "PyDispatcher                  2.0.5\n",
      "pydocstyle                    6.3.0\n",
      "pydub                         0.25.1\n",
      "pyerfa                        2.0.0\n",
      "pyflakes                      3.0.1\n",
      "Pygments                      2.15.1\n",
      "PyJWT                         2.4.0\n",
      "pylint                        2.16.2\n",
      "pylint-venv                   2.3.0\n",
      "pyls-spyder                   0.4.0\n",
      "pyodbc                        4.0.34\n",
      "pyOpenSSL                     23.2.0\n",
      "pyparsing                     3.0.9\n",
      "PyQt5-sip                     12.11.0\n",
      "pyrsistent                    0.18.0\n",
      "PySocks                       1.7.1\n",
      "pytest                        7.4.0\n",
      "python-dateutil               2.8.2\n",
      "python-dotenv                 0.21.0\n",
      "python-json-logger            2.0.7\n",
      "python-lsp-black              1.2.1\n",
      "python-lsp-jsonrpc            1.0.0\n",
      "python-lsp-server             1.7.2\n",
      "python-multipart              0.0.9\n",
      "python-slugify                5.0.2\n",
      "python-snappy                 0.6.1\n",
      "pytoolconfig                  1.2.5\n",
      "pytz                          2023.3.post1\n",
      "pyviz-comms                   2.3.0\n",
      "PyWavelets                    1.4.1\n",
      "pyxdg                         0.27\n",
      "PyYAML                        6.0\n",
      "pyzmq                         23.2.0\n",
      "QDarkStyle                    3.0.2\n",
      "qstylizer                     0.2.2\n",
      "QtAwesome                     1.2.2\n",
      "qtconsole                     5.4.2\n",
      "QtPy                          2.2.0\n",
      "queuelib                      1.5.0\n",
      "regex                         2022.7.9\n",
      "requests                      2.31.0\n",
      "requests-file                 1.5.1\n",
      "requests-toolbelt             1.0.0\n",
      "responses                     0.13.3\n",
      "rfc3339-validator             0.1.4\n",
      "rfc3986-validator             0.1.1\n",
      "rich                          13.7.1\n",
      "rope                          1.7.0\n",
      "Rtree                         1.0.1\n",
      "ruamel.yaml                   0.17.21\n",
      "ruamel-yaml-conda             0.17.21\n",
      "ruff                          0.4.8\n",
      "s3fs                          2023.4.0\n",
      "safetensors                   0.3.2\n",
      "scikit-image                  0.20.0\n",
      "scikit-learn                  1.3.0\n",
      "scipy                         1.11.1\n",
      "Scrapy                        2.8.0\n",
      "seaborn                       0.12.2\n",
      "SecretStorage                 3.3.1\n",
      "semantic-version              2.10.0\n",
      "Send2Trash                    1.8.0\n",
      "sentencepiece                 0.2.0\n",
      "service-identity              18.1.0\n",
      "setuptools                    68.0.0\n",
      "shellingham                   1.5.4\n",
      "sip                           6.6.2\n",
      "six                           1.16.0\n",
      "smart-open                    5.2.1\n",
      "sniffio                       1.2.0\n",
      "snowballstemmer               2.2.0\n",
      "sortedcontainers              2.4.0\n",
      "soupsieve                     2.4\n",
      "Sphinx                        5.0.2\n",
      "sphinxcontrib-applehelp       1.0.2\n",
      "sphinxcontrib-devhelp         1.0.2\n",
      "sphinxcontrib-htmlhelp        2.0.0\n",
      "sphinxcontrib-jsmath          1.0.1\n",
      "sphinxcontrib-qthelp          1.0.3\n",
      "sphinxcontrib-serializinghtml 1.1.5\n",
      "spyder                        5.4.3\n",
      "spyder-kernels                2.4.4\n",
      "SQLAlchemy                    1.4.39\n",
      "stack-data                    0.2.0\n",
      "starlette                     0.37.2\n",
      "statsmodels                   0.14.0\n",
      "sympy                         1.11.1\n",
      "tables                        3.8.0\n",
      "tabulate                      0.8.10\n",
      "tblib                         1.7.0\n",
      "tenacity                      8.2.2\n",
      "terminado                     0.17.1\n",
      "text-unidecode                1.3\n",
      "textdistance                  4.2.1\n",
      "threadpoolctl                 2.2.0\n",
      "three-merge                   0.1.1\n",
      "tifffile                      2023.4.12\n",
      "tinycss2                      1.2.1\n",
      "tldextract                    3.2.0\n",
      "tokenizers                    0.13.2\n",
      "toml                          0.10.2\n",
      "tomlkit                       0.12.0\n",
      "toolz                         0.12.0\n",
      "tornado                       6.3.2\n",
      "tqdm                          4.65.0\n",
      "traitlets                     5.7.1\n",
      "transformers                  4.27.1\n",
      "Twisted                       22.10.0\n",
      "typer                         0.12.3\n",
      "typing_extensions             4.12.2\n",
      "tzdata                        2023.3\n",
      "uc-micro-py                   1.0.1\n",
      "ujson                         5.4.0\n",
      "Unidecode                     1.2.0\n",
      "urllib3                       2.2.1\n",
      "uvicorn                       0.30.1\n",
      "uvloop                        0.19.0\n",
      "w3lib                         1.21.0\n",
      "watchdog                      2.1.6\n",
      "watchfiles                    0.22.0\n",
      "wcwidth                       0.2.5\n",
      "webencodings                  0.5.1\n",
      "websocket-client              0.58.0\n",
      "websockets                    11.0.3\n",
      "Werkzeug                      2.2.3\n"
     ]
    },
    {
     "name": "stdout",
     "output_type": "stream",
     "text": [
      "whatthepatch                  1.0.2\r\n",
      "wheel                         0.38.4\r\n",
      "widgetsnbextension            4.0.5\r\n",
      "wrapt                         1.14.1\r\n",
      "wurlitzer                     3.0.2\r\n",
      "xarray                        2023.6.0\r\n",
      "xxhash                        2.0.2\r\n",
      "xyzservices                   2022.9.0\r\n",
      "y-py                          0.5.9\r\n",
      "yapf                          0.31.0\r\n",
      "yarl                          1.8.1\r\n",
      "ypy-websocket                 0.8.2\r\n",
      "zict                          2.2.0\r\n",
      "zipp                          3.11.0\r\n",
      "zope.interface                5.4.0\r\n",
      "zstandard                     0.19.0\r\n"
     ]
    }
   ],
   "source": [
    "!pip list"
   ]
  },
  {
   "cell_type": "code",
   "execution_count": 3,
   "id": "df1a391f",
   "metadata": {},
   "outputs": [
    {
     "name": "stdout",
     "output_type": "stream",
     "text": [
      "ERROR: ld.so: object '/home/chcheadmin/anaconda3/lib/python3.11/site-packages/torch.libs/libgomp-d22c30c5.so.1.0.0' from LD_PRELOAD cannot be preloaded (cannot open shared object file): ignored.\n",
      "ERROR: ld.so: object '/home/chcheadmin/anaconda3/lib/python3.11/site-packages/torch.libs/libgomp-d22c30c5.so.1.0.0' from LD_PRELOAD cannot be preloaded (cannot open shared object file): ignored.\n",
      "Collecting package metadata (current_repodata.json): - ERROR: ld.so: object '/home/chcheadmin/anaconda3/lib/python3.11/site-packages/torch.libs/libgomp-d22c30c5.so.1.0.0' from LD_PRELOAD cannot be preloaded (cannot open shared object file): ignored.\n",
      "ERROR: ld.so: object '/home/chcheadmin/anaconda3/lib/python3.11/site-packages/torch.libs/libgomp-d22c30c5.so.1.0.0' from LD_PRELOAD cannot be preloaded (cannot open shared object file): ignored.\n",
      "done\n",
      "Solving environment: unsuccessful initial attempt using frozen solve. Retrying with flexible solve.\n",
      "Collecting package metadata (repodata.json): done\n",
      "Solving environment: unsuccessful initial attempt using frozen solve. Retrying with flexible solve.\n",
      "\n",
      "PackagesNotFoundError: The following packages are not available from current channels:\n",
      "\n",
      "  - torchaudio==0.10.0\n",
      "  - torchvision==0.11.1\n",
      "  - cudatoolkit=11.4\n",
      "  - pytorch==1.10.0\n",
      "\n",
      "Current channels:\n",
      "\n",
      "  - https://conda.anaconda.org/pytorch/linux-aarch64\n",
      "  - https://conda.anaconda.org/pytorch/noarch\n",
      "  - https://repo.anaconda.com/pkgs/main/linux-aarch64\n",
      "  - https://repo.anaconda.com/pkgs/main/noarch\n",
      "  - https://repo.anaconda.com/pkgs/r/linux-aarch64\n",
      "  - https://repo.anaconda.com/pkgs/r/noarch\n",
      "\n",
      "To search for alternate channels that may provide the conda package you're\n",
      "looking for, navigate to\n",
      "\n",
      "    https://anaconda.org\n",
      "\n",
      "and use the search bar at the top of the page.\n",
      "\n",
      "\n"
     ]
    }
   ],
   "source": [
    "!conda install pytorch==1.10.0 torchvision==0.11.1 torchaudio==0.10.0 cudatoolkit=11.4 -c pytorch"
   ]
  },
  {
   "cell_type": "code",
   "execution_count": 5,
   "id": "2d19df3d",
   "metadata": {},
   "outputs": [
    {
     "name": "stdout",
     "output_type": "stream",
     "text": [
      "ERROR: ld.so: object '/home/chcheadmin/anaconda3/lib/python3.11/site-packages/torch.libs/libgomp-d22c30c5.so.1.0.0' from LD_PRELOAD cannot be preloaded (cannot open shared object file): ignored.\n",
      "ERROR: ld.so: object '/home/chcheadmin/anaconda3/lib/python3.11/site-packages/torch.libs/libgomp-d22c30c5.so.1.0.0' from LD_PRELOAD cannot be preloaded (cannot open shared object file): ignored.\n",
      "Collecting package metadata (current_repodata.json): - ERROR: ld.so: object '/home/chcheadmin/anaconda3/lib/python3.11/site-packages/torch.libs/libgomp-d22c30c5.so.1.0.0' from LD_PRELOAD cannot be preloaded (cannot open shared object file): ignored.\n",
      "ERROR: ld.so: object '/home/chcheadmin/anaconda3/lib/python3.11/site-packages/torch.libs/libgomp-d22c30c5.so.1.0.0' from LD_PRELOAD cannot be preloaded (cannot open shared object file): ignored.\n",
      "done\n",
      "Solving environment: unsuccessful initial attempt using frozen solve. Retrying with flexible solve.\n",
      "Collecting package metadata (repodata.json): done\n",
      "Solving environment: unsuccessful initial attempt using frozen solve. Retrying with flexible solve.\n",
      "\n",
      "PackagesNotFoundError: The following packages are not available from current channels:\n",
      "\n",
      "  - torchaudio\n",
      "  - cudatoolkit=11.3\n",
      "\n",
      "Current channels:\n",
      "\n",
      "  - https://conda.anaconda.org/pytorch/linux-aarch64\n",
      "  - https://conda.anaconda.org/pytorch/noarch\n",
      "  - https://repo.anaconda.com/pkgs/main/linux-aarch64\n",
      "  - https://repo.anaconda.com/pkgs/main/noarch\n",
      "  - https://repo.anaconda.com/pkgs/r/linux-aarch64\n",
      "  - https://repo.anaconda.com/pkgs/r/noarch\n",
      "\n",
      "To search for alternate channels that may provide the conda package you're\n",
      "looking for, navigate to\n",
      "\n",
      "    https://anaconda.org\n",
      "\n",
      "and use the search bar at the top of the page.\n",
      "\n",
      "\n",
      "\n",
      "Note: you may need to restart the kernel to use updated packages.\n"
     ]
    }
   ],
   "source": [
    "conda install pytorch torchvision torchaudio cudatoolkit=11.3 -c pytorch"
   ]
  },
  {
   "cell_type": "code",
   "execution_count": 3,
   "id": "847160a8",
   "metadata": {},
   "outputs": [
    {
     "data": {
      "text/plain": [
       "False"
      ]
     },
     "execution_count": 3,
     "metadata": {},
     "output_type": "execute_result"
    }
   ],
   "source": [
    "torch.distributed.is_available()"
   ]
  },
  {
   "cell_type": "code",
   "execution_count": 4,
   "id": "f367db5d-a2c9-4655-8b14-9c3d1932d025",
   "metadata": {},
   "outputs": [
    {
     "ename": "AttributeError",
     "evalue": "module 'torch.distributed' has no attribute 'init_process_group'",
     "output_type": "error",
     "traceback": [
      "\u001b[0;31m---------------------------------------------------------------------------\u001b[0m",
      "\u001b[0;31mAttributeError\u001b[0m                            Traceback (most recent call last)",
      "Cell \u001b[0;32mIn[4], line 1\u001b[0m\n\u001b[0;32m----> 1\u001b[0m \u001b[43mtorch\u001b[49m\u001b[38;5;241;43m.\u001b[39;49m\u001b[43mdistributed\u001b[49m\u001b[38;5;241;43m.\u001b[39;49m\u001b[43minit_process_group\u001b[49m()\n",
      "\u001b[0;31mAttributeError\u001b[0m: module 'torch.distributed' has no attribute 'init_process_group'"
     ]
    }
   ],
   "source": [
    "torch.distributed.init_process_group()"
   ]
  },
  {
   "cell_type": "code",
   "execution_count": null,
   "id": "3b370fdf-2275-4ea7-a3bc-7374e1f8429c",
   "metadata": {},
   "outputs": [],
   "source": []
  }
 ],
 "metadata": {
  "kernelspec": {
   "display_name": "Python 3 (ipykernel)",
   "language": "python",
   "name": "python3"
  },
  "language_info": {
   "codemirror_mode": {
    "name": "ipython",
    "version": 3
   },
   "file_extension": ".py",
   "mimetype": "text/x-python",
   "name": "python",
   "nbconvert_exporter": "python",
   "pygments_lexer": "ipython3",
   "version": "3.8.8"
  }
 },
 "nbformat": 4,
 "nbformat_minor": 5
}
