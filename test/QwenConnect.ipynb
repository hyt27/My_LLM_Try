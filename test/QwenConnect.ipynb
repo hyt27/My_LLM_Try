{
 "cells": [
  {
   "cell_type": "code",
   "execution_count": 1,
   "id": "c442db06-4979-4f5d-85c1-5ccd2f753dd9",
   "metadata": {},
   "outputs": [
    {
     "name": "stderr",
     "output_type": "stream",
     "text": [
      "/home/chcheadmin/anaconda3/envs/py310/lib/python3.10/site-packages/tqdm/auto.py:21: TqdmWarning: IProgress not found. Please update jupyter and ipywidgets. See https://ipywidgets.readthedocs.io/en/stable/user_install.html\n",
      "  from .autonotebook import tqdm as notebook_tqdm\n"
     ]
    }
   ],
   "source": [
    "from transformers import AutoModelForCausalLM, AutoTokenizer\n",
    "from transformers.generation import GenerationConfig"
   ]
  },
  {
   "cell_type": "code",
   "execution_count": 2,
   "id": "42ad7dd9-c5e9-440b-a8d1-5483639e3906",
   "metadata": {},
   "outputs": [
    {
     "name": "stderr",
     "output_type": "stream",
     "text": [
      "/home/chcheadmin/anaconda3/envs/py310/lib/python3.10/site-packages/huggingface_hub/file_download.py:1132: FutureWarning: `resume_download` is deprecated and will be removed in version 1.0.0. Downloads always resume when possible. If you want to force a new download, use `force_download=True`.\n",
      "  warnings.warn(\n",
      "A new version of the following files was downloaded from https://huggingface.co/Qwen/Qwen-7B-Chat:\n",
      "- tokenization_qwen.py\n",
      ". Make sure to double-check they do not contain any added malicious code. To avoid downloading new versions of the code file, you can pin a revision.\n"
     ]
    }
   ],
   "source": [
    "# Model names: \"Qwen/Qwen-7B-Chat\", \"Qwen/Qwen-14B-Chat\"\n",
    "tokenizer = AutoTokenizer.from_pretrained(\"Qwen/Qwen-7B-Chat\", trust_remote_code=True)"
   ]
  },
  {
   "cell_type": "code",
   "execution_count": 3,
   "id": "ce0a7804-fe97-43c8-8369-90056f7ce2da",
   "metadata": {},
   "outputs": [
    {
     "name": "stderr",
     "output_type": "stream",
     "text": [
      "A new version of the following files was downloaded from https://huggingface.co/Qwen/Qwen-7B-Chat:\n",
      "- configuration_qwen.py\n",
      ". Make sure to double-check they do not contain any added malicious code. To avoid downloading new versions of the code file, you can pin a revision.\n"
     ]
    },
    {
     "name": "stdout",
     "output_type": "stream",
     "text": [
      "[2024-06-27 10:18:38,516] [WARNING] [real_accelerator.py:162:get_accelerator] Setting accelerator to CPU. If you have GPU or other accelerator, we were unable to detect it.\n",
      "[2024-06-27 10:18:38,520] [INFO] [real_accelerator.py:203:get_accelerator] Setting ds_accelerator to cpu (auto detect)\n"
     ]
    },
    {
     "name": "stderr",
     "output_type": "stream",
     "text": [
      "A new version of the following files was downloaded from https://huggingface.co/Qwen/Qwen-7B-Chat:\n",
      "- modeling_qwen.py\n",
      ". Make sure to double-check they do not contain any added malicious code. To avoid downloading new versions of the code file, you can pin a revision.\n",
      "/home/chcheadmin/anaconda3/envs/py310/lib/python3.10/site-packages/huggingface_hub/file_download.py:1132: FutureWarning: `resume_download` is deprecated and will be removed in version 1.0.0. Downloads always resume when possible. If you want to force a new download, use `force_download=True`.\n",
      "  warnings.warn(\n",
      "Downloading shards: 100%|████████████████████████| 8/8 [19:37<00:00, 147.25s/it]\n",
      "Loading checkpoint shards: 100%|██████████████████| 8/8 [05:25<00:00, 40.73s/it]\n"
     ]
    }
   ],
   "source": [
    "# use auto mode, automatically select precision based on the device.\n",
    "model = AutoModelForCausalLM.from_pretrained(\n",
    "    \"Qwen/Qwen-7B-Chat\",\n",
    "    device_map=\"auto\",\n",
    "    trust_remote_code=True\n",
    ").eval()"
   ]
  },
  {
   "cell_type": "code",
   "execution_count": 5,
   "id": "597619e6-47cf-4c0a-ba0c-cecd1b8755ef",
   "metadata": {},
   "outputs": [],
   "source": [
    "response, history = model.chat(tokenizer, \"你好\", history=None)"
   ]
  },
  {
   "cell_type": "code",
   "execution_count": 6,
   "id": "b8872165-f131-42ae-bd6f-152efffa7686",
   "metadata": {},
   "outputs": [
    {
     "name": "stdout",
     "output_type": "stream",
     "text": [
      "你好！有什么我能帮助你的吗？\n"
     ]
    }
   ],
   "source": [
    "print(response)"
   ]
  },
  {
   "cell_type": "code",
   "execution_count": 7,
   "id": "33523108-4903-4122-b214-c9d05884beda",
   "metadata": {},
   "outputs": [
    {
     "name": "stdout",
     "output_type": "stream",
     "text": [
      "在建筑行业，平安卡的正式名称为“建筑工人工资保障卡”或简称“建筑工人卡”。这张卡是为了保障建筑工人的权益和工资支付而设立的一种金融工具。建设者可以通过这张卡将工资直接划入员工账户，从而确保工资按时、足额发放。\n"
     ]
    }
   ],
   "source": [
    "response, history = model.chat(tokenizer, \"在香港建築業中，平安卡的正式名字是什麽?\", history=history)\n",
    "print(response)"
   ]
  },
  {
   "cell_type": "code",
   "execution_count": 4,
   "id": "dc7d35fb-132f-45d0-92d1-e72e56092007",
   "metadata": {},
   "outputs": [
    {
     "ename": "NameError",
     "evalue": "name 'history' is not defined",
     "output_type": "error",
     "traceback": [
      "\u001b[0;31m---------------------------------------------------------------------------\u001b[0m",
      "\u001b[0;31mNameError\u001b[0m                                 Traceback (most recent call last)",
      "Cell \u001b[0;32mIn[4], line 1\u001b[0m\n\u001b[0;32m----> 1\u001b[0m response, history \u001b[38;5;241m=\u001b[39m model\u001b[38;5;241m.\u001b[39mchat(tokenizer, \u001b[38;5;124m\"\u001b[39m\u001b[38;5;124mWhat do you know about Construction Industry Council (CIC)?\u001b[39m\u001b[38;5;124m\"\u001b[39m, history\u001b[38;5;241m=\u001b[39m\u001b[43mhistory\u001b[49m)\n\u001b[1;32m      2\u001b[0m \u001b[38;5;28mprint\u001b[39m(response)\n",
      "\u001b[0;31mNameError\u001b[0m: name 'history' is not defined"
     ]
    }
   ],
   "source": [
    "response, history = model.chat(tokenizer, \"What do you know about Construction Industry Council (CIC)?\", history=history)\n",
    "print(response)\n",
    "#28s?"
   ]
  },
  {
   "cell_type": "code",
   "execution_count": 9,
   "id": "cbab7d53-65b4-43e8-a7c0-0dd3911cf017",
   "metadata": {},
   "outputs": [
    {
     "name": "stdout",
     "output_type": "stream",
     "text": [
      "When entering a construction site, it's essential to follow safety protocols and wear appropriate personal protective equipment (PPE). Some of the PPE required for construction sites may include:\n",
      "\n",
      "  1. Hard hat: A hard hat is necessary to protect the head from falling objects and debris.\n",
      "  2. Safety glasses or goggles: To protect the eyes from flying particles and debris.\n",
      "  3. Respirator: Depending on the type of work being done, a respirator may be necessary to protect against hazardous materials such as dust, fumes, or chemicals.\n",
      "  4. Gloves: Gloves help prevent hand injuries caused by handling tools or materials.\n",
      "  5. Steel-toed boots: Steel-toed boots provide extra protection for the feet and ankles in case of falls or impacts.\n",
      "  6. Hearing protection: Earplugs or earmuffs may be needed if there is loud noise on the construction site.\n",
      "  7. Hi-vis clothing: High-visibility clothing helps workers be seen in low-light conditions or when visibility is poor.\n",
      "  8. Hard hat with communication system: Some construction sites have hard hats that also include a communication system for hands-free communication between workers.\n",
      "\n",
      "It's important to note that the specific PPE required will depend on the job tasks being performed and the potential hazards present at the site. It's always a good idea to check with your supervisor or employer for guidance on the appropriate PPE to use.\n"
     ]
    }
   ],
   "source": [
    "response, history = model.chat(tokenizer, \"What kind of personal equipment we require for the entering the construction site?\", history=history)\n",
    "print(response)\n",
    "#41s"
   ]
  },
  {
   "cell_type": "code",
   "execution_count": null,
   "id": "e9f74b7f-c8af-4518-b27b-fa3b70422020",
   "metadata": {},
   "outputs": [],
   "source": []
  }
 ],
 "metadata": {
  "kernelspec": {
   "display_name": "py310",
   "language": "python",
   "name": "py310"
  },
  "language_info": {
   "codemirror_mode": {
    "name": "ipython",
    "version": 3
   },
   "file_extension": ".py",
   "mimetype": "text/x-python",
   "name": "python",
   "nbconvert_exporter": "python",
   "pygments_lexer": "ipython3",
   "version": "3.10.9"
  }
 },
 "nbformat": 4,
 "nbformat_minor": 5
}
