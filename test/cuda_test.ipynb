{
 "cells": [
  {
   "cell_type": "code",
   "execution_count": 3,
   "id": "7938404e-0c77-4905-9780-4c3d959ae418",
   "metadata": {},
   "outputs": [
    {
     "name": "stdout",
     "output_type": "stream",
     "text": [
      "hi\n"
     ]
    }
   ],
   "source": [
    "print(\"hi\")"
   ]
  },
  {
   "cell_type": "code",
   "execution_count": 2,
   "id": "bb482540-b431-4aab-9e24-8d837f7acf0a",
   "metadata": {},
   "outputs": [],
   "source": [
    "import torch"
   ]
  },
  {
   "cell_type": "code",
   "execution_count": 5,
   "id": "6eac7e4a-31ee-4ba4-a7c2-e2a121c747ee",
   "metadata": {},
   "outputs": [
    {
     "name": "stdout",
     "output_type": "stream",
     "text": [
      "Package            Version\n",
      "------------------ -----------\n",
      "asttokens          2.0.5\n",
      "Brotli             1.0.9\n",
      "certifi            2024.6.2\n",
      "charset-normalizer 2.0.4\n",
      "colorama           0.4.6\n",
      "comm               0.2.1\n",
      "debugpy            1.6.7\n",
      "decorator          5.1.1\n",
      "executing          0.8.3\n",
      "filelock           3.13.1\n",
      "idna               3.7\n",
      "ipykernel          6.28.0\n",
      "ipython            8.25.0\n",
      "jedi               0.18.1\n",
      "Jinja2             3.1.4\n",
      "jupyter_client     8.6.0\n",
      "jupyter_core       5.7.2\n",
      "MarkupSafe         2.1.3\n",
      "matplotlib-inline  0.1.6\n",
      "mkl-fft            1.3.8\n",
      "mkl-random         1.2.4\n",
      "mkl-service        2.4.0\n",
      "mpmath             1.3.0\n",
      "nest-asyncio       1.6.0\n",
      "networkx           3.2.1\n",
      "numpy              1.26.4\n",
      "packaging          23.2\n",
      "parso              0.8.3\n",
      "pillow             10.3.0\n",
      "pip                24.0\n",
      "platformdirs       3.10.0\n",
      "prompt-toolkit     3.0.43\n",
      "psutil             5.9.0\n",
      "pure-eval          0.2.2\n",
      "Pygments           2.15.1\n",
      "PySocks            1.7.1\n",
      "python-dateutil    2.9.0.post0\n",
      "pywin32            305.1\n",
      "PyYAML             6.0.1\n",
      "pyzmq              25.1.2\n",
      "requests           2.32.2\n",
      "setuptools         69.5.1\n",
      "six                1.16.0\n",
      "stack-data         0.2.0\n",
      "sympy              1.12\n",
      "torch              2.3.1\n",
      "torchaudio         2.3.1\n",
      "torchvision        0.18.1\n",
      "tornado            6.4.1\n",
      "traitlets          5.14.3\n",
      "typing_extensions  4.11.0\n",
      "urllib3            2.2.2\n",
      "wcwidth            0.2.5\n",
      "wheel              0.43.0\n",
      "win-inet-pton      1.1.0\n"
     ]
    }
   ],
   "source": [
    "!pip list"
   ]
  },
  {
   "cell_type": "code",
   "execution_count": 6,
   "id": "5922fd8e-0a16-4eb6-b692-b708c10e3535",
   "metadata": {},
   "outputs": [
    {
     "name": "stdout",
     "output_type": "stream",
     "text": [
      "CUDA可使用\n"
     ]
    }
   ],
   "source": [
    "flag = torch.cuda.is_available()\n",
    "if flag:\n",
    "    print(\"CUDA可使用\")\n",
    "else:\n",
    "    print(\"CUDA不可用\")\n"
   ]
  },
  {
   "cell_type": "code",
   "execution_count": 7,
   "id": "3fdff745-7bf6-4b08-a0c3-1f80c975453f",
   "metadata": {},
   "outputs": [
    {
     "name": "stdout",
     "output_type": "stream",
     "text": [
      "驱动为： cuda:0\n",
      "GPU型号：  NVIDIA GeForce GTX 1650\n"
     ]
    }
   ],
   "source": [
    " \n",
    "ngpu= 1\n",
    "# Decide which device we want to run on\n",
    "device = torch.device(\"cuda:0\" if (torch.cuda.is_available() and ngpu > 0) else \"cpu\")\n",
    "print(\"驱动为：\",device)\n",
    "print(\"GPU型号： \",torch.cuda.get_device_name(0))"
   ]
  },
  {
   "cell_type": "code",
   "execution_count": 8,
   "id": "e6e6d9a5-4098-4bbb-bd1a-a40e42fc3ded",
   "metadata": {},
   "outputs": [
    {
     "name": "stdout",
     "output_type": "stream",
     "text": [
      "True\n",
      "True\n",
      "12.1\n",
      "8907\n"
     ]
    }
   ],
   "source": [
    "\n",
    "print(torch.cuda.is_available())\n",
    "print(torch.backends.cudnn.is_available())\n",
    "print(torch.cuda_version)\n",
    "print(torch.backends.cudnn.version())\n"
   ]
  },
  {
   "cell_type": "code",
   "execution_count": 3,
   "id": "0426d208-6ddc-468b-8818-2f7c6f931614",
   "metadata": {},
   "outputs": [
    {
     "data": {
      "text/plain": [
       "True"
      ]
     },
     "execution_count": 3,
     "metadata": {},
     "output_type": "execute_result"
    }
   ],
   "source": [
    "torch.distributed.is_available()"
   ]
  },
  {
   "cell_type": "code",
   "execution_count": null,
   "id": "1d4ea780-237d-4457-b957-3315b6b63ed9",
   "metadata": {},
   "outputs": [],
   "source": []
  }
 ],
 "metadata": {
  "kernelspec": {
   "display_name": "nlp_env",
   "language": "python",
   "name": "nlp_env"
  },
  "language_info": {
   "codemirror_mode": {
    "name": "ipython",
    "version": 3
   },
   "file_extension": ".py",
   "mimetype": "text/x-python",
   "name": "python",
   "nbconvert_exporter": "python",
   "pygments_lexer": "ipython3",
   "version": "3.12.3"
  }
 },
 "nbformat": 4,
 "nbformat_minor": 5
}
