{
 "cells": [
  {
   "cell_type": "code",
   "execution_count": 39,
   "id": "e0f26abc-97f4-434d-80ee-8747722998d3",
   "metadata": {},
   "outputs": [],
   "source": [
    "import csv\n",
    "import json\n",
    "\n",
    "csv_file = 'synthetic_qa_100.csv'\n",
    "json_file = 'train.json'\n",
    "data = []\n",
    "\n",
    "with open(csv_file, 'r') as file:\n",
    "    reader = csv.DictReader(file)\n",
    "    for row in reader:\n",
    "        synthetic_question = row['synthetic_question']\n",
    "        synthetic_answer = row['synthetic_answer']\n",
    "        entry = {\n",
    "            'prompt': synthetic_question,\n",
    "            'response': synthetic_answer\n",
    "        }\n",
    "        data.append(entry)\n",
    "        \n",
    "\n",
    "#with open(json_file, 'w') as file:\n",
    "#    json.dump(data, file, indent=4)\n",
    "with open(json_file, 'w') as file:\n",
    "    for entry in data:\n",
    "        json.dump(entry, file)\n",
    "        file.write('\\n')\n"
   ]
  },
  {
   "cell_type": "code",
   "execution_count": null,
   "id": "701d0a38-c09b-4056-910a-c288d8663333",
   "metadata": {},
   "outputs": [],
   "source": []
  }
 ],
 "metadata": {
  "kernelspec": {
   "display_name": "nlp_env",
   "language": "python",
   "name": "nlp_env"
  },
  "language_info": {
   "codemirror_mode": {
    "name": "ipython",
    "version": 3
   },
   "file_extension": ".py",
   "mimetype": "text/x-python",
   "name": "python",
   "nbconvert_exporter": "python",
   "pygments_lexer": "ipython3",
   "version": "3.12.3"
  }
 },
 "nbformat": 4,
 "nbformat_minor": 5
}
